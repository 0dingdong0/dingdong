{
 "cells": [
  {
   "cell_type": "code",
   "execution_count": 1,
   "metadata": {},
   "outputs": [
    {
     "name": "stdout",
     "output_type": "stream",
     "text": [
      "notebook dir:  D:\\workspace\\python\\dingdong\\notebooks\n",
      "project dir:  D:\\workspace\\python\\dingdong\n"
     ]
    }
   ],
   "source": [
    "import io,os,sys,json\n",
    "from types import SimpleNamespace\n",
    "from collections import OrderedDict\n",
    "\n",
    "notebook_dir = os.getcwd()\n",
    "print('notebook dir: ', notebook_dir)\n",
    "project_dir = os.path.dirname(notebook_dir)\n",
    "print('project dir: ', project_dir)\n",
    "sys.path.insert(0, project_dir)\n",
    "os.environ.setdefault(\"DJANGO_SETTINGS_MODULE\", \"dingdong.settings\")\n",
    "\n",
    "import django\n",
    "django.setup()\n",
    "\n",
    "def print_qs(querySet):\n",
    "    from django.core import serializers\n",
    "    data = serializers.serialize(\"json\", querySet, indent=4)\n",
    "    print(data)"
   ]
  },
  {
   "cell_type": "code",
   "execution_count": 2,
   "metadata": {},
   "outputs": [],
   "source": [
    "from django.contrib.auth import authenticate\n",
    "from django.contrib.contenttypes.models import ContentType"
   ]
  },
  {
   "cell_type": "code",
   "execution_count": 3,
   "metadata": {},
   "outputs": [],
   "source": [
    "from rest_framework.request import Request\n",
    "from rest_framework.test import APIRequestFactory\n",
    "\n",
    "request_factory = APIRequestFactory()\n",
    "\n",
    "serializer_context = {\n",
    "    'request': Request(request_factory.get('/')),\n",
    "}\n",
    "\n",
    "from rest_framework.test import RequestsClient\n",
    "from rest_framework import serializers\n",
    "from rest_framework.renderers import JSONRenderer"
   ]
  },
  {
   "cell_type": "code",
   "execution_count": 4,
   "metadata": {},
   "outputs": [],
   "source": [
    "from base.models import Account\n",
    "from base.api.serializers import AccountSerializer\n",
    "from rest_framework.decorators import action\n",
    "from rest_framework import viewsets\n",
    "from rest_framework.response import Response"
   ]
  },
  {
   "cell_type": "code",
   "execution_count": 5,
   "metadata": {},
   "outputs": [],
   "source": [
    "# auth_data = {'username':'admin', 'password':'123'}\n",
    "auth_data = {'username':'ada', 'password':'123'}\n",
    "##############################################################################################\n",
    "# authencate\n",
    "client = RequestsClient()\n",
    "response = client.post('http://testserver/api/token/obtain/', auth_data)\n",
    "assert response.status_code == 200\n",
    "token = json.loads(response.content.decode(\"utf-8\"))\n",
    "client.headers.update({'Authorization': 'Bearer ' + token['access']})\n",
    "\n",
    "def get(url):\n",
    "    response = client.get(url)\n",
    "#     assert response.status_code == 200\n",
    "    print('response status code:', response.status_code)\n",
    "    result = json.loads(response.content.decode(\"utf-8\"))\n",
    "    print(json.dumps(result, indent=4))\n",
    "###########################################################################################"
   ]
  },
  {
   "cell_type": "code",
   "execution_count": null,
   "metadata": {},
   "outputs": [],
   "source": []
  },
  {
   "cell_type": "code",
   "execution_count": null,
   "metadata": {},
   "outputs": [],
   "source": []
  },
  {
   "cell_type": "code",
   "execution_count": null,
   "metadata": {},
   "outputs": [],
   "source": []
  },
  {
   "cell_type": "code",
   "execution_count": null,
   "metadata": {},
   "outputs": [],
   "source": []
  },
  {
   "cell_type": "code",
   "execution_count": 6,
   "metadata": {},
   "outputs": [
    {
     "name": "stdout",
     "output_type": "stream",
     "text": [
      "response status code: 200\n",
      "{\n",
      "    \"account\": {\n",
      "        \"id\": 2,\n",
      "        \"last_login\": null,\n",
      "        \"is_superuser\": false,\n",
      "        \"username\": \"ada\",\n",
      "        \"first_name\": \"\",\n",
      "        \"last_name\": \"\",\n",
      "        \"email\": \"ada@glittergroupcn.com\",\n",
      "        \"is_staff\": false,\n",
      "        \"is_active\": true,\n",
      "        \"date_joined\": \"2019-03-28T14:51:05.921391Z\"\n",
      "    },\n",
      "    \"permissions\": [\n",
      "        \"base.add_articlecategory\",\n",
      "        \"base.delete_articlecategory\",\n",
      "        \"base.view_customer\",\n",
      "        \"base.add_staff\",\n",
      "        \"base.change_customer\",\n",
      "        \"base.delete_article\",\n",
      "        \"base.view_staff\",\n",
      "        \"base.delete_company\",\n",
      "        \"base.add_article\"\n",
      "    ]\n",
      "}\n"
     ]
    }
   ],
   "source": [
    "url = 'http://testserver/api/base/accounts/'\n",
    "url = 'http://testserver/api/base/accounts/2'\n",
    "url = 'http://testserver/api/base/accounts/current_account'\n",
    "\n",
    "get(url)"
   ]
  },
  {
   "cell_type": "code",
   "execution_count": null,
   "metadata": {},
   "outputs": [],
   "source": []
  },
  {
   "cell_type": "code",
   "execution_count": 10,
   "metadata": {},
   "outputs": [
    {
     "data": {
      "text/plain": [
       "OrderedDict([('id', 2),\n",
       "             ('last_login', None),\n",
       "             ('is_superuser', False),\n",
       "             ('username', 'ada'),\n",
       "             ('first_name', ''),\n",
       "             ('last_name', ''),\n",
       "             ('email', 'ada@glittergroupcn.com'),\n",
       "             ('is_staff', False),\n",
       "             ('is_active', True),\n",
       "             ('date_joined',\n",
       "              datetime.datetime(2019, 3, 28, 14, 51, 5, 921391, tzinfo=<UTC>))])"
      ]
     },
     "execution_count": 10,
     "metadata": {},
     "output_type": "execute_result"
    }
   ],
   "source": [
    "user = authenticate(**auth_data)\n",
    "user_dict = OrderedDict([\n",
    "    (field.name, getattr(user, field.name)) \n",
    "    for field in type(user)._meta.get_fields() \n",
    "    if not field.is_relation and field.name != 'password'\n",
    "])\n",
    "user_dict"
   ]
  },
  {
   "cell_type": "code",
   "execution_count": null,
   "metadata": {},
   "outputs": [],
   "source": []
  },
  {
   "cell_type": "code",
   "execution_count": null,
   "metadata": {},
   "outputs": [],
   "source": []
  },
  {
   "cell_type": "code",
   "execution_count": null,
   "metadata": {},
   "outputs": [],
   "source": []
  },
  {
   "cell_type": "code",
   "execution_count": null,
   "metadata": {},
   "outputs": [],
   "source": []
  },
  {
   "cell_type": "code",
   "execution_count": null,
   "metadata": {},
   "outputs": [],
   "source": []
  },
  {
   "cell_type": "code",
   "execution_count": null,
   "metadata": {},
   "outputs": [],
   "source": []
  },
  {
   "cell_type": "code",
   "execution_count": null,
   "metadata": {},
   "outputs": [],
   "source": []
  },
  {
   "cell_type": "code",
   "execution_count": null,
   "metadata": {},
   "outputs": [],
   "source": []
  },
  {
   "cell_type": "code",
   "execution_count": null,
   "metadata": {},
   "outputs": [],
   "source": []
  },
  {
   "cell_type": "code",
   "execution_count": null,
   "metadata": {},
   "outputs": [],
   "source": []
  },
  {
   "cell_type": "code",
   "execution_count": null,
   "metadata": {},
   "outputs": [],
   "source": []
  },
  {
   "cell_type": "code",
   "execution_count": null,
   "metadata": {},
   "outputs": [],
   "source": []
  },
  {
   "cell_type": "code",
   "execution_count": null,
   "metadata": {},
   "outputs": [],
   "source": []
  },
  {
   "cell_type": "code",
   "execution_count": null,
   "metadata": {},
   "outputs": [],
   "source": []
  },
  {
   "cell_type": "code",
   "execution_count": null,
   "metadata": {},
   "outputs": [],
   "source": []
  },
  {
   "cell_type": "code",
   "execution_count": null,
   "metadata": {},
   "outputs": [],
   "source": []
  },
  {
   "cell_type": "code",
   "execution_count": null,
   "metadata": {},
   "outputs": [],
   "source": []
  },
  {
   "cell_type": "code",
   "execution_count": null,
   "metadata": {},
   "outputs": [],
   "source": []
  }
 ],
 "metadata": {
  "kernelspec": {
   "display_name": "Python 3",
   "language": "python",
   "name": "python3"
  },
  "language_info": {
   "codemirror_mode": {
    "name": "ipython",
    "version": 3
   },
   "file_extension": ".py",
   "mimetype": "text/x-python",
   "name": "python",
   "nbconvert_exporter": "python",
   "pygments_lexer": "ipython3",
   "version": "3.7.2"
  }
 },
 "nbformat": 4,
 "nbformat_minor": 2
}
