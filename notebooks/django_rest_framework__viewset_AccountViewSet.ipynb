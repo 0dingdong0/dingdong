{
 "cells": [
  {
   "cell_type": "code",
   "execution_count": 1,
   "metadata": {},
   "outputs": [
    {
     "name": "stdout",
     "output_type": "stream",
     "text": [
      "notebook dir:  D:\\workspace\\python\\dingdong\\notebooks\n",
      "project dir:  D:\\workspace\\python\\dingdong\n"
     ]
    }
   ],
   "source": [
    "import io,os,sys,json\n",
    "from types import SimpleNamespace\n",
    "from collections import OrderedDict\n",
    "\n",
    "notebook_dir = os.getcwd()\n",
    "print('notebook dir: ', notebook_dir)\n",
    "project_dir = os.path.dirname(notebook_dir)\n",
    "print('project dir: ', project_dir)\n",
    "sys.path.insert(0, project_dir)\n",
    "os.environ.setdefault(\"DJANGO_SETTINGS_MODULE\", \"dingdong.settings\")\n",
    "\n",
    "import django\n",
    "django.setup()\n",
    "\n",
    "def print_qs(querySet):\n",
    "    from django.core import serializers\n",
    "    data = serializers.serialize(\"json\", querySet, indent=4)\n",
    "    print(data)"
   ]
  },
  {
   "cell_type": "code",
   "execution_count": 2,
   "metadata": {},
   "outputs": [],
   "source": [
    "from django.contrib.auth import authenticate\n",
    "from django.contrib.contenttypes.models import ContentType"
   ]
  },
  {
   "cell_type": "code",
   "execution_count": 3,
   "metadata": {},
   "outputs": [],
   "source": [
    "from rest_framework.request import Request\n",
    "from rest_framework.test import APIRequestFactory\n",
    "\n",
    "request_factory = APIRequestFactory()\n",
    "\n",
    "serializer_context = {\n",
    "    'request': Request(request_factory.get('/')),\n",
    "}\n",
    "\n",
    "from rest_framework.test import RequestsClient\n",
    "from rest_framework import serializers\n",
    "from rest_framework.renderers import JSONRenderer"
   ]
  },
  {
   "cell_type": "code",
   "execution_count": 4,
   "metadata": {},
   "outputs": [],
   "source": [
    "from base.models import Account\n",
    "from base.api.serializers import AccountSerializer\n",
    "from rest_framework.decorators import action\n",
    "from rest_framework import viewsets\n",
    "from rest_framework.response import Response"
   ]
  },
  {
   "cell_type": "code",
   "execution_count": 5,
   "metadata": {},
   "outputs": [],
   "source": [
    "auth_data = {'username':'admin', 'password':'123'}\n",
    "# auth_data = {'username':'ada', 'password':'123'}\n",
    "##############################################################################################\n",
    "# authencate\n",
    "client = RequestsClient()\n",
    "response = client.post('http://testserver/api/token/obtain/', auth_data)\n",
    "assert response.status_code == 200\n",
    "token = json.loads(response.content.decode(\"utf-8\"))\n",
    "client.headers.update({'Authorization': 'Bearer ' + token['access']})\n",
    "\n",
    "def test(method, url, payload=None):\n",
    "    if method == 'get':\n",
    "        response = client.get(url)\n",
    "    elif method == 'post':\n",
    "        response = client.post(url, payload)\n",
    "    elif method == 'put':\n",
    "        response = client.put(url, payload)\n",
    "    elif method == 'patch':\n",
    "        response = client.patch(url, payload)\n",
    "    elif method == 'delete':\n",
    "        response = client.delete(url)\n",
    "#     assert response.status_code == 200\n",
    "    print('response status code:', response.status_code)\n",
    "    result = json.loads(response.content.decode(\"utf-8\"))\n",
    "    print(json.dumps(result, indent=4))\n",
    "###########################################################################################"
   ]
  },
  {
   "cell_type": "code",
   "execution_count": null,
   "metadata": {},
   "outputs": [],
   "source": []
  },
  {
   "cell_type": "code",
   "execution_count": null,
   "metadata": {},
   "outputs": [],
   "source": []
  },
  {
   "cell_type": "code",
   "execution_count": null,
   "metadata": {},
   "outputs": [],
   "source": []
  },
  {
   "cell_type": "code",
   "execution_count": null,
   "metadata": {},
   "outputs": [],
   "source": []
  },
  {
   "cell_type": "code",
   "execution_count": 6,
   "metadata": {},
   "outputs": [],
   "source": [
    "url = 'http://testserver/api/base/accounts/'\n",
    "url = 'http://testserver/api/base/accounts/2/'\n",
    "url = 'http://testserver/api/base/accounts/current_account'"
   ]
  },
  {
   "cell_type": "code",
   "execution_count": 6,
   "metadata": {},
   "outputs": [],
   "source": [
    "payload = {\n",
    "    'first_name': 'ada',\n",
    "    'last_name': 'alva'\n",
    "}"
   ]
  },
  {
   "cell_type": "code",
   "execution_count": 8,
   "metadata": {},
   "outputs": [
    {
     "name": "stdout",
     "output_type": "stream",
     "text": [
      "1 1\n",
      "response status code: 200\n",
      "{\n",
      "    \"status\": \"password set\"\n",
      "}\n"
     ]
    }
   ],
   "source": [
    "url = 'http://testserver/api/base/accounts/1/set_password/'\n",
    "test('patch', url, payload)"
   ]
  },
  {
   "cell_type": "code",
   "execution_count": null,
   "metadata": {},
   "outputs": [],
   "source": []
  },
  {
   "cell_type": "code",
   "execution_count": 7,
   "metadata": {},
   "outputs": [
    {
     "name": "stdout",
     "output_type": "stream",
     "text": [
      "response status code: 200\n",
      "{\n",
      "    \"account\": {\n",
      "        \"url\": \"http://testserver/api/base/accounts/1/\",\n",
      "        \"id\": 1,\n",
      "        \"last_login\": \"2019-04-18T13:05:10.407877Z\",\n",
      "        \"is_superuser\": true,\n",
      "        \"username\": \"admin\",\n",
      "        \"first_name\": \"\",\n",
      "        \"last_name\": \"\",\n",
      "        \"email\": \"odingdongo@hotmail.com\",\n",
      "        \"is_staff\": true,\n",
      "        \"is_active\": true,\n",
      "        \"date_joined\": \"2019-03-27T13:18:56.634763Z\"\n",
      "    },\n",
      "    \"permissions\": []\n",
      "}\n"
     ]
    }
   ],
   "source": [
    "test('get', url)"
   ]
  },
  {
   "cell_type": "code",
   "execution_count": null,
   "metadata": {},
   "outputs": [],
   "source": []
  },
  {
   "cell_type": "code",
   "execution_count": null,
   "metadata": {},
   "outputs": [],
   "source": []
  },
  {
   "cell_type": "code",
   "execution_count": null,
   "metadata": {},
   "outputs": [],
   "source": []
  },
  {
   "cell_type": "code",
   "execution_count": null,
   "metadata": {},
   "outputs": [],
   "source": []
  },
  {
   "cell_type": "code",
   "execution_count": 9,
   "metadata": {},
   "outputs": [],
   "source": []
  },
  {
   "cell_type": "code",
   "execution_count": 14,
   "metadata": {},
   "outputs": [
    {
     "ename": "SyntaxError",
     "evalue": "can't assign to literal (<ipython-input-14-316961992ad3>, line 1)",
     "output_type": "error",
     "traceback": [
      "\u001b[1;36m  File \u001b[1;32m\"<ipython-input-14-316961992ad3>\"\u001b[1;36m, line \u001b[1;32m1\u001b[0m\n\u001b[1;33m    {'ab':a,'cd':b} = data\u001b[0m\n\u001b[1;37m                          ^\u001b[0m\n\u001b[1;31mSyntaxError\u001b[0m\u001b[1;31m:\u001b[0m can't assign to literal\n"
     ]
    }
   ],
   "source": []
  },
  {
   "cell_type": "code",
   "execution_count": 13,
   "metadata": {},
   "outputs": [
    {
     "data": {
      "text/plain": [
       "'cd'"
      ]
     },
     "execution_count": 13,
     "metadata": {},
     "output_type": "execute_result"
    }
   ],
   "source": [
    "b"
   ]
  },
  {
   "cell_type": "code",
   "execution_count": null,
   "metadata": {},
   "outputs": [],
   "source": []
  },
  {
   "cell_type": "code",
   "execution_count": null,
   "metadata": {},
   "outputs": [],
   "source": []
  },
  {
   "cell_type": "code",
   "execution_count": null,
   "metadata": {},
   "outputs": [],
   "source": []
  },
  {
   "cell_type": "code",
   "execution_count": null,
   "metadata": {},
   "outputs": [],
   "source": []
  },
  {
   "cell_type": "code",
   "execution_count": null,
   "metadata": {},
   "outputs": [],
   "source": []
  },
  {
   "cell_type": "code",
   "execution_count": null,
   "metadata": {},
   "outputs": [],
   "source": []
  },
  {
   "cell_type": "code",
   "execution_count": null,
   "metadata": {},
   "outputs": [],
   "source": []
  },
  {
   "cell_type": "code",
   "execution_count": null,
   "metadata": {},
   "outputs": [],
   "source": []
  },
  {
   "cell_type": "code",
   "execution_count": null,
   "metadata": {},
   "outputs": [],
   "source": []
  },
  {
   "cell_type": "code",
   "execution_count": null,
   "metadata": {},
   "outputs": [],
   "source": []
  },
  {
   "cell_type": "code",
   "execution_count": null,
   "metadata": {},
   "outputs": [],
   "source": []
  }
 ],
 "metadata": {
  "kernelspec": {
   "display_name": "Python 3",
   "language": "python",
   "name": "python3"
  },
  "language_info": {
   "codemirror_mode": {
    "name": "ipython",
    "version": 3
   },
   "file_extension": ".py",
   "mimetype": "text/x-python",
   "name": "python",
   "nbconvert_exporter": "python",
   "pygments_lexer": "ipython3",
   "version": "3.7.2"
  }
 },
 "nbformat": 4,
 "nbformat_minor": 2
}
