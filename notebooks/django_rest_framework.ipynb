{
 "cells": [
  {
   "cell_type": "code",
   "execution_count": 1,
   "metadata": {},
   "outputs": [
    {
     "name": "stdout",
     "output_type": "stream",
     "text": [
      "notebook dir:  D:\\workspace\\python\\dingdong\\notebooks\n",
      "project dir:  D:\\workspace\\python\\dingdong\n"
     ]
    }
   ],
   "source": [
    "import io,os,sys,json\n",
    "\n",
    "notebook_dir = os.getcwd()\n",
    "print('notebook dir: ', notebook_dir)\n",
    "project_dir = os.path.dirname(notebook_dir)\n",
    "print('project dir: ', project_dir)\n",
    "sys.path.insert(0, project_dir)\n",
    "os.environ.setdefault(\"DJANGO_SETTINGS_MODULE\", \"dingdong.settings\")\n",
    "\n",
    "import django\n",
    "django.setup()\n",
    "\n",
    "def print_qs(querySet):\n",
    "    from django.core import serializers\n",
    "    data = serializers.serialize(\"json\", querySet, indent=4)\n",
    "    print(data)"
   ]
  },
  {
   "cell_type": "code",
   "execution_count": 2,
   "metadata": {},
   "outputs": [],
   "source": [
    "from base.models import Account\n",
    "from django.contrib.auth.models import Group\n",
    "from django.contrib.auth.models import Permission\n",
    "from django.contrib.auth import authenticate\n",
    "from django.contrib.contenttypes.models import ContentType"
   ]
  },
  {
   "cell_type": "code",
   "execution_count": 132,
   "metadata": {},
   "outputs": [],
   "source": [
    "from rest_framework.request import Request\n",
    "from rest_framework.test import APIRequestFactory\n",
    "\n",
    "request_factory = APIRequestFactory()\n",
    "\n",
    "serializer_context = {\n",
    "    'request': Request(request_factory.get('/')),\n",
    "}\n",
    "\n",
    "from rest_framework import serializers\n",
    "from rest_framework.renderers import JSONRenderer\n",
    "# from base.api.serializers import AccountSerializer\n",
    "# from base.api.serializers import GroupSerializer"
   ]
  },
  {
   "cell_type": "code",
   "execution_count": 90,
   "metadata": {},
   "outputs": [],
   "source": [
    "class SimpleDictField(serializers.RelatedField):\n",
    "    def to_representation(self, value):\n",
    "        obj = {}\n",
    "        for field in type(value)._meta.get_fields():\n",
    "            if field.is_relation:\n",
    "                continue\n",
    "            obj[field.name] = getattr(value, field.name)\n",
    "        return obj"
   ]
  },
  {
   "cell_type": "code",
   "execution_count": 91,
   "metadata": {},
   "outputs": [],
   "source": [
    "class PermissionSerializer(serializers.ModelSerializer):\n",
    "\n",
    "    # content_type = ContentTypeSerializer()\n",
    "    app_label = serializers.CharField(source='content_type.app_label', read_only=True)\n",
    "    model = serializers.CharField(source='content_type.model', read_only=True)\n",
    "    content_type_id = serializers.IntegerField(source='content_type.id', read_only=True)\n",
    "\n",
    "    class Meta:\n",
    "        model = Permission\n",
    "        fields = ('codename', 'app_label', 'model', 'content_type_id', 'name')\n",
    "        # fields = '__all__'\n",
    "\n",
    "class GroupSerializer(serializers.HyperlinkedModelSerializer):\n",
    "\n",
    "    permissions = PermissionSerializer(many=True, read_only=True)\n",
    "    accounts = SimpleDictField(source=\"user_set\", many=True, read_only=True)\n",
    "\n",
    "    class Meta:\n",
    "        model = Group\n",
    "        fields = ('url', 'id', 'name', 'permissions', 'accounts')\n",
    "        # fields = ('url', 'name')"
   ]
  },
  {
   "cell_type": "code",
   "execution_count": 93,
   "metadata": {
    "scrolled": false
   },
   "outputs": [
    {
     "name": "stdout",
     "output_type": "stream",
     "text": [
      "AccountSerializer():\n",
      "    url = HyperlinkedIdentityField(view_name='account-detail')\n",
      "    username = CharField(help_text='Required. 150 characters or fewer. Letters, digits and @/./+/-/_ only.', max_length=150, validators=[<django.contrib.auth.validators.UnicodeUsernameValidator object>, <UniqueValidator(queryset=Account.objects.all())>])\n",
      "    email = EmailField(allow_blank=True, label='Email address', max_length=254, required=False)\n",
      "    first_name = CharField(allow_blank=True, max_length=30, required=False)\n",
      "    last_name = CharField(allow_blank=True, max_length=150, required=False)\n",
      "    groups = GroupSerializer(many=True, read_only=True):\n",
      "        url = HyperlinkedIdentityField(view_name='group-detail')\n",
      "        id = IntegerField(label='ID', read_only=True)\n",
      "        name = CharField(max_length=80, validators=[<UniqueValidator(queryset=Group.objects.all())>])\n",
      "        permissions = PermissionSerializer(many=True, read_only=True):\n",
      "            codename = CharField(max_length=100)\n",
      "            app_label = CharField(read_only=True, source='content_type.app_label')\n",
      "            model = CharField(read_only=True, source='content_type.model')\n",
      "            content_type_id = IntegerField(read_only=True, source='content_type.id')\n",
      "            name = CharField(max_length=255)\n",
      "        accounts = SimpleDictField(many=True, read_only=True, source='user_set')\n",
      "    user_permissions = PermissionSerializer(many=True, read_only=True):\n",
      "        codename = CharField(max_length=100)\n",
      "        app_label = CharField(read_only=True, source='content_type.app_label')\n",
      "        model = CharField(read_only=True, source='content_type.model')\n",
      "        content_type_id = IntegerField(read_only=True, source='content_type.id')\n",
      "        name = CharField(max_length=255)\n"
     ]
    }
   ],
   "source": [
    "class AccountSerializer(serializers.HyperlinkedModelSerializer):\n",
    "\n",
    "    groups = GroupSerializer(many=True, read_only=True)\n",
    "    user_permissions = PermissionSerializer(many=True, read_only=True)\n",
    "\n",
    "    class Meta:\n",
    "        model = Account\n",
    "        fields = ('url', 'username', 'email', 'first_name', 'last_name', 'groups', 'user_permissions')\n",
    "#         fields = ('url', 'username', 'email', 'groups')\n",
    "\n",
    "serializer = AccountSerializer()\n",
    "print(repr(serializer))"
   ]
  },
  {
   "cell_type": "code",
   "execution_count": 94,
   "metadata": {},
   "outputs": [
    {
     "name": "stdout",
     "output_type": "stream",
     "text": [
      "{\n",
      "    \"email\": \"ada@glittergroupcn.com\",\n",
      "    \"first_name\": \"\",\n",
      "    \"groups\": [\n",
      "        {\n",
      "            \"accounts\": [\n",
      "                {\n",
      "                    \"date_joined\": \"2019-03-28T14:51:05.921391Z\",\n",
      "                    \"email\": \"ada@glittergroupcn.com\",\n",
      "                    \"first_name\": \"\",\n",
      "                    \"id\": 2,\n",
      "                    \"is_active\": true,\n",
      "                    \"is_staff\": false,\n",
      "                    \"is_superuser\": false,\n",
      "                    \"last_login\": null,\n",
      "                    \"last_name\": \"\",\n",
      "                    \"password\": \"\",\n",
      "                    \"username\": \"ada\"\n",
      "                }\n",
      "            ],\n",
      "            \"id\": 1,\n",
      "            \"name\": \"salesperson\",\n",
      "            \"permissions\": [\n",
      "                {\n",
      "                    \"app_label\": \"base\",\n",
      "                    \"codename\": \"view_customer\",\n",
      "                    \"content_type_id\": 13,\n",
      "                    \"model\": \"customer\",\n",
      "                    \"name\": \"Can view customer\"\n",
      "                },\n",
      "                {\n",
      "                    \"app_label\": \"base\",\n",
      "                    \"codename\": \"view_staff\",\n",
      "                    \"content_type_id\": 15,\n",
      "                    \"model\": \"staff\",\n",
      "                    \"name\": \"Can view \\u5458\\u5de5\"\n",
      "                }\n",
      "            ],\n",
      "            \"url\": \"http://testserver/api/base/groups/1/\"\n",
      "        },\n",
      "        {\n",
      "            \"accounts\": [\n",
      "                {\n",
      "                    \"date_joined\": \"2019-03-28T14:51:05.921391Z\",\n",
      "                    \"email\": \"ada@glittergroupcn.com\",\n",
      "                    \"first_name\": \"\",\n",
      "                    \"id\": 2,\n",
      "                    \"is_active\": true,\n",
      "                    \"is_staff\": false,\n",
      "                    \"is_superuser\": false,\n",
      "                    \"last_login\": null,\n",
      "                    \"last_name\": \"\",\n",
      "                    \"password\": \"\",\n",
      "                    \"username\": \"ada\"\n",
      "                }\n",
      "            ],\n",
      "            \"id\": 3,\n",
      "            \"name\": \"inventory\",\n",
      "            \"permissions\": [\n",
      "                {\n",
      "                    \"app_label\": \"base\",\n",
      "                    \"codename\": \"delete_article\",\n",
      "                    \"content_type_id\": 8,\n",
      "                    \"model\": \"article\",\n",
      "                    \"name\": \"Can delete article\"\n",
      "                },\n",
      "                {\n",
      "                    \"app_label\": \"base\",\n",
      "                    \"codename\": \"delete_articlecategory\",\n",
      "                    \"content_type_id\": 9,\n",
      "                    \"model\": \"articlecategory\",\n",
      "                    \"name\": \"Can delete article category\"\n",
      "                }\n",
      "            ],\n",
      "            \"url\": \"http://testserver/api/base/groups/3/\"\n",
      "        }\n",
      "    ],\n",
      "    \"last_name\": \"\",\n",
      "    \"url\": \"http://testserver/api/base/accounts/2/\",\n",
      "    \"user_permissions\": [\n",
      "        {\n",
      "            \"app_label\": \"base\",\n",
      "            \"codename\": \"add_article\",\n",
      "            \"content_type_id\": 8,\n",
      "            \"model\": \"article\",\n",
      "            \"name\": \"Can add article\"\n",
      "        },\n",
      "        {\n",
      "            \"app_label\": \"base\",\n",
      "            \"codename\": \"add_articlecategory\",\n",
      "            \"content_type_id\": 9,\n",
      "            \"model\": \"articlecategory\",\n",
      "            \"name\": \"Can add article category\"\n",
      "        },\n",
      "        {\n",
      "            \"app_label\": \"base\",\n",
      "            \"codename\": \"delete_company\",\n",
      "            \"content_type_id\": 10,\n",
      "            \"model\": \"company\",\n",
      "            \"name\": \"Can delete company\"\n",
      "        },\n",
      "        {\n",
      "            \"app_label\": \"base\",\n",
      "            \"codename\": \"change_customer\",\n",
      "            \"content_type_id\": 13,\n",
      "            \"model\": \"customer\",\n",
      "            \"name\": \"Can change customer\"\n",
      "        },\n",
      "        {\n",
      "            \"app_label\": \"base\",\n",
      "            \"codename\": \"add_staff\",\n",
      "            \"content_type_id\": 15,\n",
      "            \"model\": \"staff\",\n",
      "            \"name\": \"Can add \\u5458\\u5de5\"\n",
      "        }\n",
      "    ],\n",
      "    \"username\": \"ada\"\n",
      "}\n"
     ]
    }
   ],
   "source": [
    "serializer = AccountSerializer(Account.objects.get(username='ada'), context=serializer_context)\n",
    "parsed = json.loads(JSONRenderer().render(serializer.data).decode(\"utf-8\"))\n",
    "print(json.dumps(parsed, indent=4, sort_keys=True))"
   ]
  },
  {
   "cell_type": "code",
   "execution_count": null,
   "metadata": {
    "scrolled": true
   },
   "outputs": [],
   "source": []
  },
  {
   "cell_type": "code",
   "execution_count": 16,
   "metadata": {},
   "outputs": [],
   "source": []
  },
  {
   "cell_type": "code",
   "execution_count": 113,
   "metadata": {},
   "outputs": [],
   "source": []
  },
  {
   "cell_type": "code",
   "execution_count": null,
   "metadata": {},
   "outputs": [],
   "source": []
  },
  {
   "cell_type": "code",
   "execution_count": 5,
   "metadata": {},
   "outputs": [],
   "source": []
  },
  {
   "cell_type": "code",
   "execution_count": null,
   "metadata": {},
   "outputs": [],
   "source": []
  },
  {
   "cell_type": "code",
   "execution_count": null,
   "metadata": {},
   "outputs": [],
   "source": []
  },
  {
   "cell_type": "code",
   "execution_count": null,
   "metadata": {},
   "outputs": [],
   "source": []
  },
  {
   "cell_type": "code",
   "execution_count": null,
   "metadata": {},
   "outputs": [],
   "source": []
  },
  {
   "cell_type": "code",
   "execution_count": null,
   "metadata": {},
   "outputs": [],
   "source": []
  },
  {
   "cell_type": "code",
   "execution_count": null,
   "metadata": {},
   "outputs": [],
   "source": []
  },
  {
   "cell_type": "code",
   "execution_count": null,
   "metadata": {},
   "outputs": [],
   "source": []
  },
  {
   "cell_type": "code",
   "execution_count": null,
   "metadata": {},
   "outputs": [],
   "source": []
  },
  {
   "cell_type": "code",
   "execution_count": null,
   "metadata": {},
   "outputs": [],
   "source": []
  },
  {
   "cell_type": "code",
   "execution_count": null,
   "metadata": {},
   "outputs": [],
   "source": []
  },
  {
   "cell_type": "code",
   "execution_count": null,
   "metadata": {},
   "outputs": [],
   "source": []
  },
  {
   "cell_type": "code",
   "execution_count": null,
   "metadata": {},
   "outputs": [],
   "source": []
  },
  {
   "cell_type": "code",
   "execution_count": null,
   "metadata": {},
   "outputs": [],
   "source": []
  },
  {
   "cell_type": "code",
   "execution_count": null,
   "metadata": {},
   "outputs": [],
   "source": []
  },
  {
   "cell_type": "code",
   "execution_count": null,
   "metadata": {},
   "outputs": [],
   "source": []
  },
  {
   "cell_type": "code",
   "execution_count": null,
   "metadata": {},
   "outputs": [],
   "source": []
  },
  {
   "cell_type": "code",
   "execution_count": null,
   "metadata": {},
   "outputs": [],
   "source": []
  },
  {
   "cell_type": "code",
   "execution_count": null,
   "metadata": {},
   "outputs": [],
   "source": []
  }
 ],
 "metadata": {
  "kernelspec": {
   "display_name": "Python 3",
   "language": "python",
   "name": "python3"
  },
  "language_info": {
   "codemirror_mode": {
    "name": "ipython",
    "version": 3
   },
   "file_extension": ".py",
   "mimetype": "text/x-python",
   "name": "python",
   "nbconvert_exporter": "python",
   "pygments_lexer": "ipython3",
   "version": "3.7.2"
  }
 },
 "nbformat": 4,
 "nbformat_minor": 2
}
