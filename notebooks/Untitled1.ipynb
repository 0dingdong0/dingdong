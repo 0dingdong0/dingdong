{
 "cells": [
  {
   "cell_type": "code",
   "execution_count": 1,
   "metadata": {},
   "outputs": [
    {
     "name": "stdout",
     "output_type": "stream",
     "text": [
      "notebook dir:  D:\\workspace\\python\\dingdong\\notebooks\n",
      "project dir:  D:\\workspace\\python\\dingdong\n"
     ]
    }
   ],
   "source": [
    "import os,sys\n",
    "\n",
    "notebook_dir = os.getcwd()\n",
    "print('notebook dir: ', notebook_dir)\n",
    "project_dir = os.path.dirname(notebook_dir)\n",
    "print('project dir: ', project_dir)\n",
    "sys.path.insert(0, project_dir)\n",
    "os.environ.setdefault(\"DJANGO_SETTINGS_MODULE\", \"dingdong.settings\")\n",
    "\n",
    "import django\n",
    "django.setup()\n",
    "\n",
    "\n",
    "def print_qs(querySet):\n",
    "    from django.core import serializers\n",
    "    data = serializers.serialize(\"json\", querySet, indent=4)\n",
    "    print(data)"
   ]
  },
  {
   "cell_type": "code",
   "execution_count": 19,
   "metadata": {},
   "outputs": [],
   "source": []
  },
  {
   "cell_type": "code",
   "execution_count": 2,
   "metadata": {},
   "outputs": [],
   "source": [
    "from base.models import Account\n",
    "from django.contrib.auth.models import Group\n",
    "from django.contrib.auth.models import Permission\n",
    "from django.contrib.auth import authenticate\n",
    "from django.contrib.contenttypes.models import ContentType"
   ]
  },
  {
   "cell_type": "code",
   "execution_count": 9,
   "metadata": {},
   "outputs": [],
   "source": [
    "from rest_framework import serializers\n",
    "from rest_framework.renderers import JSONRenderer\n",
    "from base.api.serializers import AccountSerializer\n",
    "from base.api.serializers import GroupSerializer"
   ]
  },
  {
   "cell_type": "code",
   "execution_count": 15,
   "metadata": {},
   "outputs": [
    {
     "name": "stdout",
     "output_type": "stream",
     "text": [
      "AccountSerializer():\n",
      "    username = CharField(help_text='Required. 150 characters or fewer. Letters, digits and @/./+/-/_ only.', max_length=150, validators=[<django.contrib.auth.validators.UnicodeUsernameValidator object>, <UniqueValidator(queryset=Account.objects.all())>])\n",
      "    email = EmailField(allow_blank=True, label='Email address', max_length=254, required=False)\n",
      "    groups = GroupSerializer(many=True):\n",
      "        id = IntegerField(label='ID', read_only=True)\n",
      "        name = CharField(max_length=80, validators=[<UniqueValidator(queryset=Group.objects.all())>])\n",
      "        permissions = PrimaryKeyRelatedField(many=True, queryset=Permission.objects.all(), required=False)\n"
     ]
    }
   ],
   "source": [
    "class AccountSerializer(serializers.ModelSerializer):\n",
    "    groups = GroupSerializer(many=True)\n",
    "    class Meta:\n",
    "        model = Account\n",
    "        fields = ('username', 'email', 'groups')\n",
    "serializer = AccountSerializer()\n",
    "print(repr(serializer))"
   ]
  },
  {
   "cell_type": "code",
   "execution_count": 16,
   "metadata": {},
   "outputs": [
    {
     "data": {
      "text/plain": [
       "[OrderedDict([('username', 'admin'), ('email', 'odingdongo@hotmail.com'), ('groups', [])]), OrderedDict([('username', 'ada'), ('email', 'ada@glittergroupcn.com'), ('groups', [OrderedDict([('id', 1), ('name', 'salesperson'), ('permissions', [52, 60])]), OrderedDict([('id', 3), ('name', 'inventory'), ('permissions', [31, 35])])])])]"
      ]
     },
     "execution_count": 16,
     "metadata": {},
     "output_type": "execute_result"
    }
   ],
   "source": [
    "serializer = AccountSerializer(Account.objects.all(), many=True)\n",
    "serializer.data"
   ]
  },
  {
   "cell_type": "code",
   "execution_count": 14,
   "metadata": {},
   "outputs": [],
   "source": [
    "class GroupSerializer(serializers.ModelSerializer):\n",
    "\n",
    "    class Meta:\n",
    "        model = Group\n",
    "        fields = '__all__'"
   ]
  },
  {
   "cell_type": "code",
   "execution_count": null,
   "metadata": {},
   "outputs": [],
   "source": [
    "class ContentTypeSerializer(serializers.ModelSerializer):\n",
    "    class Meta:\n",
    "        model = ContentType\n",
    "        # fields = ('codename', 'content_type', 'name')\n",
    "        fields = '__all__'"
   ]
  },
  {
   "cell_type": "code",
   "execution_count": null,
   "metadata": {},
   "outputs": [],
   "source": [
    "serializer = ContentTypeSerializer(ContentType.objects.all(), many=True)"
   ]
  },
  {
   "cell_type": "code",
   "execution_count": 25,
   "metadata": {},
   "outputs": [],
   "source": [
    "class PermissionSerializer(serializers.ModelSerializer):\n",
    "    # content_type = ContentTypeSerializer()\n",
    "    app_label = serializers.CharField(source='content_type.app_label', read_only=True)\n",
    "    model = serializers.CharField(source='content_type.model', read_only=True)\n",
    "    content_type_id = serializers.IntegerField(source='content_type.id', read_only=True)\n",
    "    class Meta:\n",
    "        model = Permission\n",
    "        fields = ('codename', 'app_label', 'model', 'content_type_id', 'name')\n",
    "        # fields = '__all__'"
   ]
  },
  {
   "cell_type": "code",
   "execution_count": 26,
   "metadata": {
    "scrolled": true
   },
   "outputs": [
    {
     "name": "stdout",
     "output_type": "stream",
     "text": [
      "PermissionSerializer():\n",
      "    codename = CharField(max_length=100)\n",
      "    app_label = CharField(read_only=True, source='content_type.app_label')\n",
      "    model = CharField(read_only=True, source='content_type.model')\n",
      "    content_type_id = IntegerField(read_only=True, source='content_type.id')\n",
      "    name = CharField(max_length=255)\n"
     ]
    }
   ],
   "source": [
    "serializer = PermissionSerializer()\n",
    "print(repr(serializer))"
   ]
  },
  {
   "cell_type": "code",
   "execution_count": 27,
   "metadata": {},
   "outputs": [],
   "source": [
    "serializer = PermissionSerializer(ada.user_permissions.all(), many=True)"
   ]
  },
  {
   "cell_type": "code",
   "execution_count": 28,
   "metadata": {
    "scrolled": true
   },
   "outputs": [
    {
     "data": {
      "text/plain": [
       "[OrderedDict([('codename', 'add_article'), ('app_label', 'base'), ('model', 'article'), ('content_type_id', 8), ('name', 'Can add article')]), OrderedDict([('codename', 'add_articlecategory'), ('app_label', 'base'), ('model', 'articlecategory'), ('content_type_id', 9), ('name', 'Can add article category')]), OrderedDict([('codename', 'delete_company'), ('app_label', 'base'), ('model', 'company'), ('content_type_id', 10), ('name', 'Can delete company')]), OrderedDict([('codename', 'change_customer'), ('app_label', 'base'), ('model', 'customer'), ('content_type_id', 13), ('name', 'Can change customer')]), OrderedDict([('codename', 'add_staff'), ('app_label', 'base'), ('model', 'staff'), ('content_type_id', 15), ('name', 'Can add 员工')])]"
      ]
     },
     "execution_count": 28,
     "metadata": {},
     "output_type": "execute_result"
    }
   ],
   "source": [
    "JSONRenderer().render(serializer.data)\n",
    "serializer.data"
   ]
  },
  {
   "cell_type": "code",
   "execution_count": null,
   "metadata": {},
   "outputs": [],
   "source": []
  },
  {
   "cell_type": "code",
   "execution_count": 22,
   "metadata": {},
   "outputs": [],
   "source": [
    "ada = Account.objects.get(username='ada')"
   ]
  },
  {
   "cell_type": "code",
   "execution_count": null,
   "metadata": {},
   "outputs": [],
   "source": []
  },
  {
   "cell_type": "code",
   "execution_count": 21,
   "metadata": {},
   "outputs": [
    {
     "name": "stdout",
     "output_type": "stream",
     "text": [
      "[\n",
      "{\n",
      "    \"model\": \"auth.permission\",\n",
      "    \"pk\": 29,\n",
      "    \"fields\": {\n",
      "        \"name\": \"Can add article\",\n",
      "        \"content_type\": 8,\n",
      "        \"codename\": \"add_article\"\n",
      "    }\n",
      "},\n",
      "{\n",
      "    \"model\": \"auth.permission\",\n",
      "    \"pk\": 33,\n",
      "    \"fields\": {\n",
      "        \"name\": \"Can add article category\",\n",
      "        \"content_type\": 9,\n",
      "        \"codename\": \"add_articlecategory\"\n",
      "    }\n",
      "},\n",
      "{\n",
      "    \"model\": \"auth.permission\",\n",
      "    \"pk\": 39,\n",
      "    \"fields\": {\n",
      "        \"name\": \"Can delete company\",\n",
      "        \"content_type\": 10,\n",
      "        \"codename\": \"delete_company\"\n",
      "    }\n",
      "},\n",
      "{\n",
      "    \"model\": \"auth.permission\",\n",
      "    \"pk\": 50,\n",
      "    \"fields\": {\n",
      "        \"name\": \"Can change customer\",\n",
      "        \"content_type\": 13,\n",
      "        \"codename\": \"change_customer\"\n",
      "    }\n",
      "},\n",
      "{\n",
      "    \"model\": \"auth.permission\",\n",
      "    \"pk\": 57,\n",
      "    \"fields\": {\n",
      "        \"name\": \"Can add \\u5458\\u5de5\",\n",
      "        \"content_type\": 15,\n",
      "        \"codename\": \"add_staff\"\n",
      "    }\n",
      "}\n",
      "]\n",
      "\n"
     ]
    }
   ],
   "source": [
    "print_qs(ada.user_permissions.all())"
   ]
  },
  {
   "cell_type": "code",
   "execution_count": null,
   "metadata": {},
   "outputs": [],
   "source": []
  },
  {
   "cell_type": "code",
   "execution_count": null,
   "metadata": {},
   "outputs": [],
   "source": []
  },
  {
   "cell_type": "code",
   "execution_count": null,
   "metadata": {},
   "outputs": [],
   "source": []
  },
  {
   "cell_type": "code",
   "execution_count": null,
   "metadata": {},
   "outputs": [],
   "source": []
  },
  {
   "cell_type": "code",
   "execution_count": null,
   "metadata": {},
   "outputs": [],
   "source": []
  },
  {
   "cell_type": "code",
   "execution_count": null,
   "metadata": {},
   "outputs": [],
   "source": []
  },
  {
   "cell_type": "code",
   "execution_count": null,
   "metadata": {},
   "outputs": [],
   "source": []
  },
  {
   "cell_type": "code",
   "execution_count": null,
   "metadata": {},
   "outputs": [],
   "source": []
  },
  {
   "cell_type": "code",
   "execution_count": null,
   "metadata": {},
   "outputs": [],
   "source": []
  },
  {
   "cell_type": "code",
   "execution_count": null,
   "metadata": {},
   "outputs": [],
   "source": []
  },
  {
   "cell_type": "code",
   "execution_count": null,
   "metadata": {},
   "outputs": [],
   "source": []
  },
  {
   "cell_type": "code",
   "execution_count": null,
   "metadata": {},
   "outputs": [],
   "source": []
  },
  {
   "cell_type": "code",
   "execution_count": null,
   "metadata": {},
   "outputs": [],
   "source": []
  },
  {
   "cell_type": "code",
   "execution_count": null,
   "metadata": {},
   "outputs": [],
   "source": []
  },
  {
   "cell_type": "code",
   "execution_count": null,
   "metadata": {},
   "outputs": [],
   "source": []
  },
  {
   "cell_type": "code",
   "execution_count": null,
   "metadata": {},
   "outputs": [],
   "source": []
  },
  {
   "cell_type": "code",
   "execution_count": null,
   "metadata": {},
   "outputs": [],
   "source": []
  }
 ],
 "metadata": {
  "kernelspec": {
   "display_name": "Python 3",
   "language": "python",
   "name": "python3"
  },
  "language_info": {
   "codemirror_mode": {
    "name": "ipython",
    "version": 3
   },
   "file_extension": ".py",
   "mimetype": "text/x-python",
   "name": "python",
   "nbconvert_exporter": "python",
   "pygments_lexer": "ipython3",
   "version": "3.7.2"
  }
 },
 "nbformat": 4,
 "nbformat_minor": 2
}
