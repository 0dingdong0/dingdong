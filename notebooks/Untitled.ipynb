{
 "cells": [
  {
   "cell_type": "code",
   "execution_count": 1,
   "metadata": {},
   "outputs": [
    {
     "name": "stdout",
     "output_type": "stream",
     "text": [
      "notebook dir:  D:\\workspace\\python\\dingdong\\notebooks\n",
      "project dir:  D:\\workspace\\python\\dingdong\n"
     ]
    }
   ],
   "source": [
    "import os,sys\n",
    "\n",
    "notebook_dir = os.getcwd()\n",
    "print('notebook dir: ', notebook_dir)\n",
    "project_dir = os.path.dirname(notebook_dir)\n",
    "print('project dir: ', project_dir)\n",
    "sys.path.insert(0, project_dir)\n",
    "os.environ.setdefault(\"DJANGO_SETTINGS_MODULE\", \"dingdong.settings\")\n",
    "\n",
    "import django\n",
    "django.setup()\n",
    "\n",
    "from django.core import serializers\n",
    "def print_qs(querySet):\n",
    "    data = serializers.serialize(\"json\", accounts, indent=4)\n",
    "    print(data)"
   ]
  },
  {
   "cell_type": "code",
   "execution_count": null,
   "metadata": {},
   "outputs": [],
   "source": []
  },
  {
   "cell_type": "code",
   "execution_count": 3,
   "metadata": {},
   "outputs": [],
   "source": [
    "from base.models import Account"
   ]
  },
  {
   "cell_type": "code",
   "execution_count": null,
   "metadata": {},
   "outputs": [],
   "source": []
  },
  {
   "cell_type": "code",
   "execution_count": 4,
   "metadata": {},
   "outputs": [],
   "source": [
    "accounts = Account.objects.all()"
   ]
  },
  {
   "cell_type": "code",
   "execution_count": 5,
   "metadata": {},
   "outputs": [
    {
     "name": "stdout",
     "output_type": "stream",
     "text": [
      "[\n",
      "{\n",
      "    \"model\": \"base.account\",\n",
      "    \"pk\": 1,\n",
      "    \"fields\": {\n",
      "        \"password\": \"pbkdf2_sha256$120000$Orzz2ow2wqJP$W00BO7dUbZ3/gNvgWm9l2rbipwoaVARMc65r8kd5Wug=\",\n",
      "        \"last_login\": \"2019-04-18T13:05:10.407Z\",\n",
      "        \"is_superuser\": true,\n",
      "        \"username\": \"admin\",\n",
      "        \"first_name\": \"\",\n",
      "        \"last_name\": \"\",\n",
      "        \"email\": \"odingdongo@hotmail.com\",\n",
      "        \"is_staff\": true,\n",
      "        \"is_active\": true,\n",
      "        \"date_joined\": \"2019-03-27T13:18:56.634Z\",\n",
      "        \"groups\": [],\n",
      "        \"user_permissions\": []\n",
      "    }\n",
      "},\n",
      "{\n",
      "    \"model\": \"base.account\",\n",
      "    \"pk\": 2,\n",
      "    \"fields\": {\n",
      "        \"password\": \"\",\n",
      "        \"last_login\": null,\n",
      "        \"is_superuser\": false,\n",
      "        \"username\": \"ada\",\n",
      "        \"first_name\": \"\",\n",
      "        \"last_name\": \"\",\n",
      "        \"email\": \"ada@glittergroupcn.com\",\n",
      "        \"is_staff\": false,\n",
      "        \"is_active\": true,\n",
      "        \"date_joined\": \"2019-03-28T14:51:05.921Z\",\n",
      "        \"groups\": [\n",
      "            2\n",
      "        ],\n",
      "        \"user_permissions\": []\n",
      "    }\n",
      "}\n",
      "]\n",
      "\n"
     ]
    }
   ],
   "source": [
    "print_qs(accounts)"
   ]
  },
  {
   "cell_type": "code",
   "execution_count": 6,
   "metadata": {},
   "outputs": [
    {
     "data": {
      "text/plain": [
       "'admin'"
      ]
     },
     "execution_count": 6,
     "metadata": {},
     "output_type": "execute_result"
    }
   ],
   "source": [
    "accounts[0].username"
   ]
  },
  {
   "cell_type": "code",
   "execution_count": 7,
   "metadata": {},
   "outputs": [],
   "source": [
    "from django.contrib.auth import authenticate"
   ]
  },
  {
   "cell_type": "code",
   "execution_count": 8,
   "metadata": {},
   "outputs": [
    {
     "data": {
      "text/plain": [
       "<Account: Base.account.Account - admin>"
      ]
     },
     "execution_count": 8,
     "metadata": {},
     "output_type": "execute_result"
    }
   ],
   "source": [
    "user = authenticate(username='admin', password='123')\n",
    "user"
   ]
  },
  {
   "cell_type": "code",
   "execution_count": 9,
   "metadata": {},
   "outputs": [
    {
     "data": {
      "text/plain": [
       "True"
      ]
     },
     "execution_count": 9,
     "metadata": {},
     "output_type": "execute_result"
    }
   ],
   "source": [
    "user.has_perm('base.add_account')"
   ]
  },
  {
   "cell_type": "code",
   "execution_count": 10,
   "metadata": {},
   "outputs": [],
   "source": [
    "from django.contrib.auth.models import Permission"
   ]
  },
  {
   "cell_type": "code",
   "execution_count": 11,
   "metadata": {},
   "outputs": [],
   "source": [
    "permissions = Permission.objects.filter(user=user)"
   ]
  },
  {
   "cell_type": "code",
   "execution_count": 12,
   "metadata": {},
   "outputs": [
    {
     "data": {
      "text/plain": [
       "0"
      ]
     },
     "execution_count": 12,
     "metadata": {},
     "output_type": "execute_result"
    }
   ],
   "source": [
    "permissions.count()"
   ]
  },
  {
   "cell_type": "code",
   "execution_count": 13,
   "metadata": {},
   "outputs": [],
   "source": [
    "def get_user_permissions(user):\n",
    "    if user.is_superuser:\n",
    "        return Permission.objects.all()\n",
    "    return user.user_permissions.all() | Permission.objects.filter(group__user=user)"
   ]
  },
  {
   "cell_type": "code",
   "execution_count": null,
   "metadata": {},
   "outputs": [],
   "source": [
    "def get_user_permissions(user):\n",
    "    if user.is_superuser:\n",
    "        return Permission.objects.all()\n",
    "    return user.user_permissions.all()"
   ]
  },
  {
   "cell_type": "code",
   "execution_count": 17,
   "metadata": {},
   "outputs": [
    {
     "data": {
      "text/plain": [
       "<QuerySet [<Permission: admin | log entry | Can add log entry>, <Permission: admin | log entry | Can change log entry>, <Permission: admin | log entry | Can delete log entry>, <Permission: admin | log entry | Can view log entry>, <Permission: auth | group | Can add group>, <Permission: auth | group | Can change group>, <Permission: auth | group | Can delete group>, <Permission: auth | group | Can view group>, <Permission: auth | permission | Can add permission>, <Permission: auth | permission | Can change permission>, <Permission: auth | permission | Can delete permission>, <Permission: auth | permission | Can view permission>, <Permission: authtoken | token | Can add Token>, <Permission: authtoken | token | Can change Token>, <Permission: authtoken | token | Can delete Token>, <Permission: authtoken | token | Can view Token>, <Permission: base | 帐号 | Can add 帐号>, <Permission: base | 帐号 | Can change 帐号>, <Permission: base | 帐号 | Can delete 帐号>, <Permission: base | 帐号 | Can view 帐号>, '...(remaining elements truncated)...']>"
      ]
     },
     "execution_count": 17,
     "metadata": {},
     "output_type": "execute_result"
    }
   ],
   "source": [
    "get_user_permissions(user)"
   ]
  },
  {
   "cell_type": "code",
   "execution_count": 21,
   "metadata": {},
   "outputs": [
    {
     "data": {
      "text/plain": [
       "0"
      ]
     },
     "execution_count": 21,
     "metadata": {},
     "output_type": "execute_result"
    }
   ],
   "source": [
    "user.groups\n",
    "groups.count()"
   ]
  },
  {
   "cell_type": "code",
   "execution_count": null,
   "metadata": {},
   "outputs": [],
   "source": []
  },
  {
   "cell_type": "code",
   "execution_count": null,
   "metadata": {},
   "outputs": [],
   "source": []
  }
 ],
 "metadata": {
  "kernelspec": {
   "display_name": "Python 3",
   "language": "python",
   "name": "python3"
  },
  "language_info": {
   "codemirror_mode": {
    "name": "ipython",
    "version": 3
   },
   "file_extension": ".py",
   "mimetype": "text/x-python",
   "name": "python",
   "nbconvert_exporter": "python",
   "pygments_lexer": "ipython3",
   "version": "3.7.2"
  }
 },
 "nbformat": 4,
 "nbformat_minor": 2
}
