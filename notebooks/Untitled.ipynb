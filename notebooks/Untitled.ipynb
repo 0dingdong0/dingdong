{
 "cells": [
  {
   "cell_type": "code",
   "execution_count": 1,
   "metadata": {},
   "outputs": [
    {
     "name": "stdout",
     "output_type": "stream",
     "text": [
      "notebook dir:  D:\\workspace\\python\\dingdong\\notebooks\n",
      "project dir:  D:\\workspace\\python\\dingdong\n"
     ]
    }
   ],
   "source": [
    "import os,sys\n",
    "\n",
    "notebook_dir = os.getcwd()\n",
    "print('notebook dir: ', notebook_dir)\n",
    "project_dir = os.path.dirname(notebook_dir)\n",
    "print('project dir: ', project_dir)\n",
    "sys.path.insert(0, project_dir)\n",
    "os.environ.setdefault(\"DJANGO_SETTINGS_MODULE\", \"dingdong.settings\")\n",
    "\n",
    "import django\n",
    "django.setup()\n",
    "\n",
    "from django.core import serializers\n",
    "\n",
    "def print_qs(querySet):\n",
    "    data = serializers.serialize(\"json\", querySet, indent=4)\n",
    "    print(data)"
   ]
  },
  {
   "cell_type": "code",
   "execution_count": 2,
   "metadata": {},
   "outputs": [],
   "source": []
  },
  {
   "cell_type": "code",
   "execution_count": 2,
   "metadata": {},
   "outputs": [],
   "source": [
    "from base.models import Account\n",
    "from django.contrib.auth.models import Group\n",
    "from django.contrib.auth.models import Permission\n",
    "from django.contrib.auth import authenticate\n",
    "from django.contrib.contenttypes.models import ContentType"
   ]
  },
  {
   "cell_type": "code",
   "execution_count": null,
   "metadata": {},
   "outputs": [],
   "source": []
  },
  {
   "cell_type": "code",
   "execution_count": 34,
   "metadata": {},
   "outputs": [
    {
     "name": "stdout",
     "output_type": "stream",
     "text": [
      "[\n",
      "{\n",
      "    \"model\": \"base.account\",\n",
      "    \"pk\": 1,\n",
      "    \"fields\": {\n",
      "        \"password\": \"pbkdf2_sha256$120000$Orzz2ow2wqJP$W00BO7dUbZ3/gNvgWm9l2rbipwoaVARMc65r8kd5Wug=\",\n",
      "        \"last_login\": \"2019-04-18T13:05:10.407Z\",\n",
      "        \"is_superuser\": true,\n",
      "        \"username\": \"admin\",\n",
      "        \"first_name\": \"\",\n",
      "        \"last_name\": \"\",\n",
      "        \"email\": \"odingdongo@hotmail.com\",\n",
      "        \"is_staff\": true,\n",
      "        \"is_active\": true,\n",
      "        \"date_joined\": \"2019-03-27T13:18:56.634Z\",\n",
      "        \"groups\": [],\n",
      "        \"user_permissions\": []\n",
      "    }\n",
      "},\n",
      "{\n",
      "    \"model\": \"base.account\",\n",
      "    \"pk\": 2,\n",
      "    \"fields\": {\n",
      "        \"password\": \"\",\n",
      "        \"last_login\": null,\n",
      "        \"is_superuser\": false,\n",
      "        \"username\": \"ada\",\n",
      "        \"first_name\": \"\",\n",
      "        \"last_name\": \"\",\n",
      "        \"email\": \"ada@glittergroupcn.com\",\n",
      "        \"is_staff\": false,\n",
      "        \"is_active\": true,\n",
      "        \"date_joined\": \"2019-03-28T14:51:05.921Z\",\n",
      "        \"groups\": [\n",
      "            1,\n",
      "            3\n",
      "        ],\n",
      "        \"user_permissions\": [\n",
      "            29\n",
      "        ]\n",
      "    }\n",
      "}\n",
      "]\n",
      "\n"
     ]
    }
   ],
   "source": [
    "accounts = Account.objects.all()\n",
    "print_qs(accounts)"
   ]
  },
  {
   "cell_type": "code",
   "execution_count": 12,
   "metadata": {},
   "outputs": [],
   "source": [
    "grp_inventory = Group(name='inventory')\n",
    "grp_inventory.save()"
   ]
  },
  {
   "cell_type": "code",
   "execution_count": 33,
   "metadata": {},
   "outputs": [
    {
     "name": "stdout",
     "output_type": "stream",
     "text": [
      "[\n",
      "{\n",
      "    \"model\": \"auth.group\",\n",
      "    \"pk\": 1,\n",
      "    \"fields\": {\n",
      "        \"name\": \"salesperson\",\n",
      "        \"permissions\": []\n",
      "    }\n",
      "},\n",
      "{\n",
      "    \"model\": \"auth.group\",\n",
      "    \"pk\": 2,\n",
      "    \"fields\": {\n",
      "        \"name\": \"sale\",\n",
      "        \"permissions\": []\n",
      "    }\n",
      "},\n",
      "{\n",
      "    \"model\": \"auth.group\",\n",
      "    \"pk\": 3,\n",
      "    \"fields\": {\n",
      "        \"name\": \"inventory\",\n",
      "        \"permissions\": []\n",
      "    }\n",
      "}\n",
      "]\n",
      "\n"
     ]
    }
   ],
   "source": [
    "groups = Group.objects.all()\n",
    "print_qs(groups)"
   ]
  },
  {
   "cell_type": "code",
   "execution_count": null,
   "metadata": {},
   "outputs": [],
   "source": []
  },
  {
   "cell_type": "code",
   "execution_count": null,
   "metadata": {},
   "outputs": [],
   "source": []
  },
  {
   "cell_type": "code",
   "execution_count": 14,
   "metadata": {},
   "outputs": [],
   "source": [
    "admin = Account.objects.get(username=\"admin\")\n",
    "ada = Account.objects.get(username=\"ada\")\n",
    "grp_salesperson = Group.objects.get(name=\"salesperson\")\n",
    "grp_sale = Group.objects.get(name=\"sale\")\n",
    "grp_inventory = Group.objects.get(name=\"inventory\")"
   ]
  },
  {
   "cell_type": "code",
   "execution_count": 15,
   "metadata": {},
   "outputs": [],
   "source": [
    "ada.groups.remove(grp_sale)"
   ]
  },
  {
   "cell_type": "code",
   "execution_count": 17,
   "metadata": {},
   "outputs": [],
   "source": [
    "ada.groups.add(grp_salesperson, grp_inventory)"
   ]
  },
  {
   "cell_type": "code",
   "execution_count": 27,
   "metadata": {},
   "outputs": [],
   "source": [
    "ct_article = ContentType.objects.get(app_label=\"base\", model=\"article\")\n",
    "ct_customer = ContentType.objects.get(app_label=\"base\", model=\"customer\")\n",
    "ct_staff = ContentType.objects.get(app_label=\"base\", model=\"staff\")\n",
    "ct_company = ContentType.objects.get(app_label=\"base\", model=\"company\")\n",
    "ct_articlecategory = ContentType.objects.get(app_label=\"base\", model=\"articlecategory\")"
   ]
  },
  {
   "cell_type": "code",
   "execution_count": null,
   "metadata": {},
   "outputs": [],
   "source": []
  },
  {
   "cell_type": "code",
   "execution_count": 38,
   "metadata": {},
   "outputs": [],
   "source": [
    "permission = Permission.objects.get(content_type=ct_article, codename=\"add_article\")\n",
    "ada.user_permissions.add(permission)\n",
    "permission = Permission.objects.get(content_type=ct_staff, codename=\"add_staff\")\n",
    "ada.user_permissions.add(permission)\n",
    "permission = Permission.objects.get(content_type=ct_articlecategory, codename=\"add_articlecategory\")\n",
    "ada.user_permissions.add(permission)\n",
    "permission = Permission.objects.get(content_type=ct_customer, codename=\"change_customer\")\n",
    "ada.user_permissions.add(permission)\n",
    "permission = Permission.objects.get(content_type=ct_company, codename=\"delete_company\")\n",
    "ada.user_permissions.add(permission)"
   ]
  },
  {
   "cell_type": "code",
   "execution_count": 50,
   "metadata": {},
   "outputs": [],
   "source": [
    "permission = Permission.objects.get(content_type=ct_staff, codename=\"view_staff\")\n",
    "grp_salesperson.permissions.add(permission)\n",
    "permission = Permission.objects.get(content_type=ct_customer, codename=\"view_customer\")\n",
    "grp_salesperson.permissions.add(permission)\n",
    "permission = Permission.objects.get(content_type=ct_article, codename=\"delete_article\")\n",
    "grp_inventory.permissions.add(permission)\n",
    "permission = Permission.objects.get(content_type=ct_articlecategory, codename=\"delete_articlecategory\")\n",
    "grp_inventory.permissions.add(permission)"
   ]
  },
  {
   "cell_type": "code",
   "execution_count": 45,
   "metadata": {},
   "outputs": [
    {
     "name": "stdout",
     "output_type": "stream",
     "text": [
      "[\n",
      "{\n",
      "    \"model\": \"auth.permission\",\n",
      "    \"pk\": 29,\n",
      "    \"fields\": {\n",
      "        \"name\": \"Can add article\",\n",
      "        \"content_type\": 8,\n",
      "        \"codename\": \"add_article\"\n",
      "    }\n",
      "},\n",
      "{\n",
      "    \"model\": \"auth.permission\",\n",
      "    \"pk\": 33,\n",
      "    \"fields\": {\n",
      "        \"name\": \"Can add article category\",\n",
      "        \"content_type\": 9,\n",
      "        \"codename\": \"add_articlecategory\"\n",
      "    }\n",
      "},\n",
      "{\n",
      "    \"model\": \"auth.permission\",\n",
      "    \"pk\": 39,\n",
      "    \"fields\": {\n",
      "        \"name\": \"Can delete company\",\n",
      "        \"content_type\": 10,\n",
      "        \"codename\": \"delete_company\"\n",
      "    }\n",
      "},\n",
      "{\n",
      "    \"model\": \"auth.permission\",\n",
      "    \"pk\": 50,\n",
      "    \"fields\": {\n",
      "        \"name\": \"Can change customer\",\n",
      "        \"content_type\": 13,\n",
      "        \"codename\": \"change_customer\"\n",
      "    }\n",
      "},\n",
      "{\n",
      "    \"model\": \"auth.permission\",\n",
      "    \"pk\": 57,\n",
      "    \"fields\": {\n",
      "        \"name\": \"Can add \\u5458\\u5de5\",\n",
      "        \"content_type\": 15,\n",
      "        \"codename\": \"add_staff\"\n",
      "    }\n",
      "}\n",
      "]\n",
      "\n"
     ]
    }
   ],
   "source": [
    "ada = Account.objects.get(username=\"ada\")\n",
    "print_qs(ada.user_permissions.all())"
   ]
  },
  {
   "cell_type": "code",
   "execution_count": 57,
   "metadata": {},
   "outputs": [
    {
     "data": {
      "text/plain": [
       "{'base.add_article',\n",
       " 'base.add_articlecategory',\n",
       " 'base.add_staff',\n",
       " 'base.change_customer',\n",
       " 'base.delete_article',\n",
       " 'base.delete_articlecategory',\n",
       " 'base.delete_company',\n",
       " 'base.view_customer',\n",
       " 'base.view_staff'}"
      ]
     },
     "execution_count": 57,
     "metadata": {},
     "output_type": "execute_result"
    }
   ],
   "source": [
    "ada = Account.objects.get(username=\"ada\")\n",
    "ada.get_all_permissions()"
   ]
  },
  {
   "cell_type": "code",
   "execution_count": 60,
   "metadata": {},
   "outputs": [
    {
     "name": "stdout",
     "output_type": "stream",
     "text": [
      "[\n",
      "{\n",
      "    \"model\": \"auth.group\",\n",
      "    \"pk\": 1,\n",
      "    \"fields\": {\n",
      "        \"name\": \"salesperson\",\n",
      "        \"permissions\": [\n",
      "            52,\n",
      "            60\n",
      "        ]\n",
      "    }\n",
      "},\n",
      "{\n",
      "    \"model\": \"auth.group\",\n",
      "    \"pk\": 3,\n",
      "    \"fields\": {\n",
      "        \"name\": \"inventory\",\n",
      "        \"permissions\": [\n",
      "            31,\n",
      "            35\n",
      "        ]\n",
      "    }\n",
      "}\n",
      "]\n",
      "\n"
     ]
    }
   ],
   "source": [
    "print_qs(ada.groups.all())"
   ]
  },
  {
   "cell_type": "code",
   "execution_count": 68,
   "metadata": {},
   "outputs": [
    {
     "data": {
      "text/plain": [
       "<Account: Base.account.Account - ada>"
      ]
     },
     "execution_count": 68,
     "metadata": {},
     "output_type": "execute_result"
    }
   ],
   "source": [
    "ada = grp_inventory.user_set.all()[0]"
   ]
  },
  {
   "cell_type": "code",
   "execution_count": null,
   "metadata": {},
   "outputs": [],
   "source": []
  },
  {
   "cell_type": "code",
   "execution_count": null,
   "metadata": {},
   "outputs": [],
   "source": []
  },
  {
   "cell_type": "code",
   "execution_count": null,
   "metadata": {},
   "outputs": [],
   "source": [
    "user = authenticate(username='admin', password='123')\n",
    "user"
   ]
  },
  {
   "cell_type": "code",
   "execution_count": null,
   "metadata": {},
   "outputs": [],
   "source": [
    "user.has_perm('base.add_account')"
   ]
  },
  {
   "cell_type": "code",
   "execution_count": null,
   "metadata": {},
   "outputs": [],
   "source": [
    "from django.contrib.auth.models import Permission"
   ]
  },
  {
   "cell_type": "code",
   "execution_count": null,
   "metadata": {},
   "outputs": [],
   "source": [
    "permissions = Permission.objects.filter(user=user)"
   ]
  },
  {
   "cell_type": "code",
   "execution_count": null,
   "metadata": {},
   "outputs": [],
   "source": [
    "permissions.count()"
   ]
  },
  {
   "cell_type": "code",
   "execution_count": null,
   "metadata": {},
   "outputs": [],
   "source": [
    "def get_user_permissions(user):\n",
    "    if user.is_superuser:\n",
    "        return Permission.objects.all()\n",
    "    return user.user_permissions.all() | Permission.objects.filter(group__user=user)"
   ]
  },
  {
   "cell_type": "code",
   "execution_count": null,
   "metadata": {},
   "outputs": [],
   "source": [
    "def get_user_permissions(user):\n",
    "    if user.is_superuser:\n",
    "        return Permission.objects.all()\n",
    "    return user.user_permissions.all()"
   ]
  },
  {
   "cell_type": "code",
   "execution_count": null,
   "metadata": {},
   "outputs": [],
   "source": [
    "get_user_permissions(user)"
   ]
  },
  {
   "cell_type": "code",
   "execution_count": null,
   "metadata": {},
   "outputs": [],
   "source": [
    "user.groups\n",
    "groups.count()"
   ]
  },
  {
   "cell_type": "code",
   "execution_count": null,
   "metadata": {},
   "outputs": [],
   "source": []
  },
  {
   "cell_type": "code",
   "execution_count": null,
   "metadata": {},
   "outputs": [],
   "source": []
  },
  {
   "cell_type": "code",
   "execution_count": null,
   "metadata": {},
   "outputs": [],
   "source": []
  },
  {
   "cell_type": "code",
   "execution_count": null,
   "metadata": {},
   "outputs": [],
   "source": []
  },
  {
   "cell_type": "code",
   "execution_count": null,
   "metadata": {},
   "outputs": [],
   "source": []
  },
  {
   "cell_type": "code",
   "execution_count": null,
   "metadata": {},
   "outputs": [],
   "source": []
  },
  {
   "cell_type": "code",
   "execution_count": null,
   "metadata": {},
   "outputs": [],
   "source": []
  },
  {
   "cell_type": "code",
   "execution_count": null,
   "metadata": {},
   "outputs": [],
   "source": []
  },
  {
   "cell_type": "code",
   "execution_count": null,
   "metadata": {},
   "outputs": [],
   "source": []
  },
  {
   "cell_type": "code",
   "execution_count": null,
   "metadata": {},
   "outputs": [],
   "source": []
  },
  {
   "cell_type": "code",
   "execution_count": null,
   "metadata": {},
   "outputs": [],
   "source": []
  },
  {
   "cell_type": "code",
   "execution_count": null,
   "metadata": {},
   "outputs": [],
   "source": []
  },
  {
   "cell_type": "code",
   "execution_count": null,
   "metadata": {},
   "outputs": [],
   "source": []
  },
  {
   "cell_type": "code",
   "execution_count": null,
   "metadata": {},
   "outputs": [],
   "source": []
  },
  {
   "cell_type": "code",
   "execution_count": null,
   "metadata": {},
   "outputs": [],
   "source": []
  },
  {
   "cell_type": "code",
   "execution_count": null,
   "metadata": {},
   "outputs": [],
   "source": []
  },
  {
   "cell_type": "code",
   "execution_count": null,
   "metadata": {},
   "outputs": [],
   "source": []
  },
  {
   "cell_type": "code",
   "execution_count": null,
   "metadata": {},
   "outputs": [],
   "source": []
  },
  {
   "cell_type": "code",
   "execution_count": null,
   "metadata": {},
   "outputs": [],
   "source": []
  },
  {
   "cell_type": "code",
   "execution_count": null,
   "metadata": {},
   "outputs": [],
   "source": []
  },
  {
   "cell_type": "code",
   "execution_count": null,
   "metadata": {},
   "outputs": [],
   "source": []
  },
  {
   "cell_type": "code",
   "execution_count": null,
   "metadata": {},
   "outputs": [],
   "source": []
  },
  {
   "cell_type": "code",
   "execution_count": null,
   "metadata": {},
   "outputs": [],
   "source": []
  },
  {
   "cell_type": "code",
   "execution_count": null,
   "metadata": {},
   "outputs": [],
   "source": []
  },
  {
   "cell_type": "code",
   "execution_count": null,
   "metadata": {},
   "outputs": [],
   "source": []
  },
  {
   "cell_type": "code",
   "execution_count": null,
   "metadata": {},
   "outputs": [],
   "source": []
  },
  {
   "cell_type": "code",
   "execution_count": null,
   "metadata": {},
   "outputs": [],
   "source": []
  },
  {
   "cell_type": "code",
   "execution_count": null,
   "metadata": {},
   "outputs": [],
   "source": []
  },
  {
   "cell_type": "code",
   "execution_count": null,
   "metadata": {},
   "outputs": [],
   "source": []
  },
  {
   "cell_type": "code",
   "execution_count": null,
   "metadata": {},
   "outputs": [],
   "source": []
  },
  {
   "cell_type": "code",
   "execution_count": null,
   "metadata": {},
   "outputs": [],
   "source": []
  },
  {
   "cell_type": "code",
   "execution_count": null,
   "metadata": {},
   "outputs": [],
   "source": []
  },
  {
   "cell_type": "code",
   "execution_count": null,
   "metadata": {},
   "outputs": [],
   "source": []
  }
 ],
 "metadata": {
  "kernelspec": {
   "display_name": "Python 3",
   "language": "python",
   "name": "python3"
  },
  "language_info": {
   "codemirror_mode": {
    "name": "ipython",
    "version": 3
   },
   "file_extension": ".py",
   "mimetype": "text/x-python",
   "name": "python",
   "nbconvert_exporter": "python",
   "pygments_lexer": "ipython3",
   "version": "3.7.2"
  }
 },
 "nbformat": 4,
 "nbformat_minor": 2
}
